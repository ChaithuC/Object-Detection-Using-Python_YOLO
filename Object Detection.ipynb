{
 "cells": [
  {
   "cell_type": "markdown",
   "id": "202ab81a",
   "metadata": {},
   "source": [
    "### Object Detection Using Python"
   ]
  },
  {
   "cell_type": "code",
   "execution_count": null,
   "id": "9d6f4d02",
   "metadata": {},
   "outputs": [],
   "source": [
    "# Required libraries\n",
    "\n",
    "import cv2\n",
    "\n",
    "import matplotlib.pyplot as plt"
   ]
  },
  {
   "cell_type": "code",
   "execution_count": null,
   "id": "0230e28f",
   "metadata": {},
   "outputs": [],
   "source": [
    "# Open cv DNN\n",
    "\n",
    "net = cv2.dnn.readNet(\"yolov4-tiny.weights\",\"yolov4-tiny.cfg\")\n",
    "\n",
    "modell = cv2.dnn_DetectionModel(net)\n",
    "\n",
    "modell.setInputParams(size = (320, 320), scale = 1/255)\n"
   ]
  },
  {
   "cell_type": "code",
   "execution_count": null,
   "id": "95707e73",
   "metadata": {},
   "outputs": [],
   "source": [
    "# Check cam is ON or not\n",
    "\n",
    "ccap = cv2.VideoCapture(0)  # 0 is the camera index\n",
    "\n",
    "if not (ccap.isOpened()):\n",
    "    print(\"cam not open!\")\n",
    "    \n",
    "else:\n",
    "    print(\"Yes, camera is ON\")\n"
   ]
  },
  {
   "cell_type": "code",
   "execution_count": null,
   "id": "6de6100e",
   "metadata": {},
   "outputs": [],
   "source": [
    "# importing class names\n",
    "\n",
    "\n",
    "classes= []\n",
    "\n",
    "with open('classes.txt', 'r') as file_object:\n",
    "    for class_name in file_object.readlines():\n",
    "        class_name = class_name.strip()\n",
    "        classes.append(class_name)\n",
    "        \n",
    "        \n",
    "        \n",
    "print(\"Objects list\")\n",
    "\n",
    "#print(classes)"
   ]
  },
  {
   "cell_type": "code",
   "execution_count": null,
   "id": "abd15879",
   "metadata": {},
   "outputs": [],
   "source": [
    "# Object detection\n",
    "\n",
    "\n",
    "while True:\n",
    "\n",
    "    ret, frame = ccap.read()\n",
    "    \n",
    "    (class_ids, score, bboxes) = modell.detect(frame)\n",
    "    \n",
    "    for class_id, scores, bbox  in zip(class_ids, score, bboxes):\n",
    "        (x, y, w, h) = bbox\n",
    "        print(x, y, w, h)\n",
    "        class_name = classes[int(class_ids[0])]\n",
    "        \n",
    "        \n",
    "        cv2.rectangle(frame, (x, y), (x + w, y + h), (200, 0, 50), 3)\n",
    "        cv2.putText(frame, class_name, (x, y - 5), cv2.FONT_HERSHEY_PLAIN, 1, (200, 0, 50), 2)\n",
    "        \n",
    "        \n",
    "        cv2.imshow('pre', frame)\n",
    "        cv2.waitKey(1)\n",
    "    "
   ]
  },
  {
   "cell_type": "code",
   "execution_count": null,
   "id": "87e73ecf",
   "metadata": {},
   "outputs": [],
   "source": []
  }
 ],
 "metadata": {
  "kernelspec": {
   "display_name": "Python 3 (ipykernel)",
   "language": "python",
   "name": "python3"
  },
  "language_info": {
   "codemirror_mode": {
    "name": "ipython",
    "version": 3
   },
   "file_extension": ".py",
   "mimetype": "text/x-python",
   "name": "python",
   "nbconvert_exporter": "python",
   "pygments_lexer": "ipython3",
   "version": "3.9.7"
  }
 },
 "nbformat": 4,
 "nbformat_minor": 5
}
